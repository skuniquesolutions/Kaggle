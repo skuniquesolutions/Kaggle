{
 "cells": [
  {
   "cell_type": "code",
   "execution_count": 35,
   "metadata": {},
   "outputs": [],
   "source": [
    "import pandas as pd"
   ]
  },
  {
   "cell_type": "code",
   "execution_count": 36,
   "metadata": {},
   "outputs": [
    {
     "data": {
      "text/html": [
       "<div>\n",
       "<style scoped>\n",
       "    .dataframe tbody tr th:only-of-type {\n",
       "        vertical-align: middle;\n",
       "    }\n",
       "\n",
       "    .dataframe tbody tr th {\n",
       "        vertical-align: top;\n",
       "    }\n",
       "\n",
       "    .dataframe thead th {\n",
       "        text-align: right;\n",
       "    }\n",
       "</style>\n",
       "<table border=\"1\" class=\"dataframe\">\n",
       "  <thead>\n",
       "    <tr style=\"text-align: right;\">\n",
       "      <th></th>\n",
       "      <th>id</th>\n",
       "      <th>surgery</th>\n",
       "      <th>age</th>\n",
       "      <th>hospital_number</th>\n",
       "      <th>rectal_temp</th>\n",
       "      <th>pulse</th>\n",
       "      <th>respiratory_rate</th>\n",
       "      <th>temp_of_extremities</th>\n",
       "      <th>peripheral_pulse</th>\n",
       "      <th>mucous_membrane</th>\n",
       "      <th>...</th>\n",
       "      <th>packed_cell_volume</th>\n",
       "      <th>total_protein</th>\n",
       "      <th>abdomo_appearance</th>\n",
       "      <th>abdomo_protein</th>\n",
       "      <th>surgical_lesion</th>\n",
       "      <th>lesion_1</th>\n",
       "      <th>lesion_2</th>\n",
       "      <th>lesion_3</th>\n",
       "      <th>cp_data</th>\n",
       "      <th>outcome</th>\n",
       "    </tr>\n",
       "  </thead>\n",
       "  <tbody>\n",
       "    <tr>\n",
       "      <th>0</th>\n",
       "      <td>0</td>\n",
       "      <td>yes</td>\n",
       "      <td>adult</td>\n",
       "      <td>530001</td>\n",
       "      <td>38.1</td>\n",
       "      <td>132.0</td>\n",
       "      <td>24.0</td>\n",
       "      <td>cool</td>\n",
       "      <td>reduced</td>\n",
       "      <td>dark_cyanotic</td>\n",
       "      <td>...</td>\n",
       "      <td>57.0</td>\n",
       "      <td>8.5</td>\n",
       "      <td>serosanguious</td>\n",
       "      <td>3.4</td>\n",
       "      <td>yes</td>\n",
       "      <td>2209</td>\n",
       "      <td>0</td>\n",
       "      <td>0</td>\n",
       "      <td>no</td>\n",
       "      <td>died</td>\n",
       "    </tr>\n",
       "    <tr>\n",
       "      <th>1</th>\n",
       "      <td>1</td>\n",
       "      <td>yes</td>\n",
       "      <td>adult</td>\n",
       "      <td>533836</td>\n",
       "      <td>37.5</td>\n",
       "      <td>88.0</td>\n",
       "      <td>12.0</td>\n",
       "      <td>cool</td>\n",
       "      <td>normal</td>\n",
       "      <td>pale_cyanotic</td>\n",
       "      <td>...</td>\n",
       "      <td>33.0</td>\n",
       "      <td>64.0</td>\n",
       "      <td>serosanguious</td>\n",
       "      <td>2.0</td>\n",
       "      <td>yes</td>\n",
       "      <td>2208</td>\n",
       "      <td>0</td>\n",
       "      <td>0</td>\n",
       "      <td>no</td>\n",
       "      <td>euthanized</td>\n",
       "    </tr>\n",
       "    <tr>\n",
       "      <th>2</th>\n",
       "      <td>2</td>\n",
       "      <td>yes</td>\n",
       "      <td>adult</td>\n",
       "      <td>529812</td>\n",
       "      <td>38.3</td>\n",
       "      <td>120.0</td>\n",
       "      <td>28.0</td>\n",
       "      <td>cool</td>\n",
       "      <td>reduced</td>\n",
       "      <td>pale_pink</td>\n",
       "      <td>...</td>\n",
       "      <td>37.0</td>\n",
       "      <td>6.4</td>\n",
       "      <td>serosanguious</td>\n",
       "      <td>3.4</td>\n",
       "      <td>yes</td>\n",
       "      <td>5124</td>\n",
       "      <td>0</td>\n",
       "      <td>0</td>\n",
       "      <td>no</td>\n",
       "      <td>lived</td>\n",
       "    </tr>\n",
       "    <tr>\n",
       "      <th>3</th>\n",
       "      <td>3</td>\n",
       "      <td>yes</td>\n",
       "      <td>adult</td>\n",
       "      <td>5262541</td>\n",
       "      <td>37.1</td>\n",
       "      <td>72.0</td>\n",
       "      <td>30.0</td>\n",
       "      <td>cold</td>\n",
       "      <td>reduced</td>\n",
       "      <td>pale_pink</td>\n",
       "      <td>...</td>\n",
       "      <td>53.0</td>\n",
       "      <td>7.0</td>\n",
       "      <td>cloudy</td>\n",
       "      <td>3.9</td>\n",
       "      <td>yes</td>\n",
       "      <td>2208</td>\n",
       "      <td>0</td>\n",
       "      <td>0</td>\n",
       "      <td>yes</td>\n",
       "      <td>lived</td>\n",
       "    </tr>\n",
       "    <tr>\n",
       "      <th>4</th>\n",
       "      <td>4</td>\n",
       "      <td>no</td>\n",
       "      <td>adult</td>\n",
       "      <td>5299629</td>\n",
       "      <td>38.0</td>\n",
       "      <td>52.0</td>\n",
       "      <td>48.0</td>\n",
       "      <td>normal</td>\n",
       "      <td>normal</td>\n",
       "      <td>normal_pink</td>\n",
       "      <td>...</td>\n",
       "      <td>47.0</td>\n",
       "      <td>7.3</td>\n",
       "      <td>cloudy</td>\n",
       "      <td>2.6</td>\n",
       "      <td>no</td>\n",
       "      <td>0</td>\n",
       "      <td>0</td>\n",
       "      <td>0</td>\n",
       "      <td>yes</td>\n",
       "      <td>lived</td>\n",
       "    </tr>\n",
       "  </tbody>\n",
       "</table>\n",
       "<p>5 rows × 29 columns</p>\n",
       "</div>"
      ],
      "text/plain": [
       "   id surgery    age  hospital_number  rectal_temp  pulse  respiratory_rate  \\\n",
       "0   0     yes  adult           530001         38.1  132.0              24.0   \n",
       "1   1     yes  adult           533836         37.5   88.0              12.0   \n",
       "2   2     yes  adult           529812         38.3  120.0              28.0   \n",
       "3   3     yes  adult          5262541         37.1   72.0              30.0   \n",
       "4   4      no  adult          5299629         38.0   52.0              48.0   \n",
       "\n",
       "  temp_of_extremities peripheral_pulse mucous_membrane  ...  \\\n",
       "0                cool          reduced   dark_cyanotic  ...   \n",
       "1                cool           normal   pale_cyanotic  ...   \n",
       "2                cool          reduced       pale_pink  ...   \n",
       "3                cold          reduced       pale_pink  ...   \n",
       "4              normal           normal     normal_pink  ...   \n",
       "\n",
       "  packed_cell_volume total_protein abdomo_appearance abdomo_protein  \\\n",
       "0               57.0           8.5     serosanguious            3.4   \n",
       "1               33.0          64.0     serosanguious            2.0   \n",
       "2               37.0           6.4     serosanguious            3.4   \n",
       "3               53.0           7.0            cloudy            3.9   \n",
       "4               47.0           7.3            cloudy            2.6   \n",
       "\n",
       "  surgical_lesion lesion_1  lesion_2 lesion_3 cp_data     outcome  \n",
       "0             yes     2209         0        0      no        died  \n",
       "1             yes     2208         0        0      no  euthanized  \n",
       "2             yes     5124         0        0      no       lived  \n",
       "3             yes     2208         0        0     yes       lived  \n",
       "4              no        0         0        0     yes       lived  \n",
       "\n",
       "[5 rows x 29 columns]"
      ]
     },
     "execution_count": 36,
     "metadata": {},
     "output_type": "execute_result"
    }
   ],
   "source": [
    "train_data = pd.read_csv('train.csv')\n",
    "\n",
    "train_data.head()\n",
    "\n"
   ]
  },
  {
   "cell_type": "code",
   "execution_count": 37,
   "metadata": {},
   "outputs": [],
   "source": [
    "X = train_data.iloc[:,0:28]\n",
    "Y = train_data[['outcome']]\n"
   ]
  },
  {
   "cell_type": "code",
   "execution_count": 38,
   "metadata": {},
   "outputs": [],
   "source": [
    "from sklearn.preprocessing import LabelEncoder\n",
    "\n",
    "label_encoder = LabelEncoder()\n",
    "\n",
    "X['surgery_label'] = label_encoder.fit_transform(X['surgery'])\n",
    "X['age_label'] = label_encoder.fit_transform(X['age'])\n",
    "X['temp_of_extremities_label'] = label_encoder.fit_transform(X['temp_of_extremities'])\n",
    "X['peripheral_pulse_label'] = label_encoder.fit_transform(X['peripheral_pulse'])\n",
    "X['mucous_membrane_label'] = label_encoder.fit_transform(X['mucous_membrane'])\n",
    "X['capillary_refill_time_label'] = label_encoder.fit_transform(X['capillary_refill_time'])\n",
    "\n",
    "X['pain_label'] = label_encoder.fit_transform(X['pain'])\n",
    "X['peristalsis_label'] = label_encoder.fit_transform(X['peristalsis'])\n",
    "X['abdominal_distention_label'] = label_encoder.fit_transform(X['abdominal_distention'])\n",
    "X['nasogastric_tube_label'] = label_encoder.fit_transform(X['nasogastric_tube'])\n",
    "X['nasogastric_reflux_label'] = label_encoder.fit_transform(X['nasogastric_reflux'])\n",
    "\n",
    "X['abdomen_label'] = label_encoder.fit_transform(X['abdomen'])\n",
    "X['rectal_exam_feces_label'] = label_encoder.fit_transform(X['rectal_exam_feces'])\n",
    "X['abdomo_appearance_label'] = label_encoder.fit_transform(X['abdomo_appearance'])\n",
    "X['surgical_lesion_label'] = label_encoder.fit_transform(X['surgical_lesion'])\n",
    "X['cp_data_label'] = label_encoder.fit_transform(X['cp_data'])"
   ]
  },
  {
   "cell_type": "code",
   "execution_count": 39,
   "metadata": {},
   "outputs": [],
   "source": [
    "x = X[['id','surgery_label','age_label','rectal_temp','pulse','respiratory_rate','temp_of_extremities_label',\n",
    "       'peripheral_pulse_label','capillary_refill_time_label','pain_label','peristalsis_label',\n",
    "       'abdominal_distention_label','nasogastric_tube_label','nasogastric_reflux_label','nasogastric_reflux_ph',\n",
    "       'rectal_exam_feces_label','abdomen_label','abdomo_appearance_label','packed_cell_volume','total_protein',\n",
    "       'surgical_lesion_label','lesion_1','lesion_2','lesion_3','cp_data_label']]\n",
    "\n",
    "\n",
    "#,'hospital_number','mucous_membrane_label'"
   ]
  },
  {
   "cell_type": "code",
   "execution_count": 40,
   "metadata": {},
   "outputs": [],
   "source": [
    "# Y['outcome_label'] = label_encoder.fit_transform(Y['outcome'])\n"
   ]
  },
  {
   "cell_type": "code",
   "execution_count": 41,
   "metadata": {},
   "outputs": [],
   "source": [
    "# y = Y[['outcome_label']]"
   ]
  },
  {
   "cell_type": "code",
   "execution_count": 42,
   "metadata": {},
   "outputs": [
    {
     "data": {
      "text/html": [
       "<div>\n",
       "<style scoped>\n",
       "    .dataframe tbody tr th:only-of-type {\n",
       "        vertical-align: middle;\n",
       "    }\n",
       "\n",
       "    .dataframe tbody tr th {\n",
       "        vertical-align: top;\n",
       "    }\n",
       "\n",
       "    .dataframe thead th {\n",
       "        text-align: right;\n",
       "    }\n",
       "</style>\n",
       "<table border=\"1\" class=\"dataframe\">\n",
       "  <thead>\n",
       "    <tr style=\"text-align: right;\">\n",
       "      <th></th>\n",
       "      <th>outcome</th>\n",
       "    </tr>\n",
       "  </thead>\n",
       "  <tbody>\n",
       "    <tr>\n",
       "      <th>0</th>\n",
       "      <td>died</td>\n",
       "    </tr>\n",
       "    <tr>\n",
       "      <th>1</th>\n",
       "      <td>euthanized</td>\n",
       "    </tr>\n",
       "    <tr>\n",
       "      <th>2</th>\n",
       "      <td>lived</td>\n",
       "    </tr>\n",
       "    <tr>\n",
       "      <th>3</th>\n",
       "      <td>lived</td>\n",
       "    </tr>\n",
       "    <tr>\n",
       "      <th>4</th>\n",
       "      <td>lived</td>\n",
       "    </tr>\n",
       "  </tbody>\n",
       "</table>\n",
       "</div>"
      ],
      "text/plain": [
       "      outcome\n",
       "0        died\n",
       "1  euthanized\n",
       "2       lived\n",
       "3       lived\n",
       "4       lived"
      ]
     },
     "execution_count": 42,
     "metadata": {},
     "output_type": "execute_result"
    }
   ],
   "source": [
    "Y.head()"
   ]
  },
  {
   "cell_type": "code",
   "execution_count": 43,
   "metadata": {},
   "outputs": [
    {
     "data": {
      "text/plain": [
       "(1235, 1235)"
      ]
     },
     "execution_count": 43,
     "metadata": {},
     "output_type": "execute_result"
    }
   ],
   "source": [
    "len(x), len(Y)"
   ]
  },
  {
   "cell_type": "code",
   "execution_count": 44,
   "metadata": {},
   "outputs": [],
   "source": [
    "from sklearn.model_selection import train_test_split\n",
    "from sklearn.linear_model import LogisticRegression\n",
    "from sklearn.metrics import accuracy_score"
   ]
  },
  {
   "cell_type": "code",
   "execution_count": 45,
   "metadata": {},
   "outputs": [
    {
     "name": "stderr",
     "output_type": "stream",
     "text": [
      "c:\\ProgramData\\Anaconda3\\lib\\site-packages\\sklearn\\utils\\validation.py:760: DataConversionWarning: A column-vector y was passed when a 1d array was expected. Please change the shape of y to (n_samples, ), for example using ravel().\n",
      "  y = column_or_1d(y, warn=True)\n",
      "c:\\ProgramData\\Anaconda3\\lib\\site-packages\\sklearn\\linear_model\\_logistic.py:940: ConvergenceWarning: lbfgs failed to converge (status=1):\n",
      "STOP: TOTAL NO. of ITERATIONS REACHED LIMIT.\n",
      "\n",
      "Increase the number of iterations (max_iter) or scale the data as shown in:\n",
      "    https://scikit-learn.org/stable/modules/preprocessing.html\n",
      "Please also refer to the documentation for alternative solver options:\n",
      "    https://scikit-learn.org/stable/modules/linear_model.html#logistic-regression\n",
      "  extra_warning_msg=_LOGISTIC_SOLVER_CONVERGENCE_MSG)\n"
     ]
    },
    {
     "data": {
      "text/plain": [
       "LogisticRegression(C=1.0, class_weight=None, dual=False, fit_intercept=True,\n",
       "                   intercept_scaling=1, l1_ratio=None, max_iter=100,\n",
       "                   multi_class='auto', n_jobs=None, penalty='l2',\n",
       "                   random_state=None, solver='lbfgs', tol=0.0001, verbose=0,\n",
       "                   warm_start=False)"
      ]
     },
     "execution_count": 45,
     "metadata": {},
     "output_type": "execute_result"
    }
   ],
   "source": [
    "model = LogisticRegression()\n",
    "model.fit(x, Y)"
   ]
  },
  {
   "cell_type": "code",
   "execution_count": 47,
   "metadata": {},
   "outputs": [],
   "source": [
    "from sklearn.tree import DecisionTreeClassifier\n",
    "from sklearn.ensemble import RandomForestClassifier\n",
    "from sklearn.metrics import accuracy_score"
   ]
  },
  {
   "cell_type": "code",
   "execution_count": 48,
   "metadata": {},
   "outputs": [
    {
     "name": "stderr",
     "output_type": "stream",
     "text": [
      "c:\\ProgramData\\Anaconda3\\lib\\site-packages\\ipykernel_launcher.py:3: DataConversionWarning: A column-vector y was passed when a 1d array was expected. Please change the shape of y to (n_samples,), for example using ravel().\n",
      "  This is separate from the ipykernel package so we can avoid doing imports until\n"
     ]
    },
    {
     "data": {
      "text/plain": [
       "RandomForestClassifier(bootstrap=True, ccp_alpha=0.0, class_weight=None,\n",
       "                       criterion='gini', max_depth=None, max_features='auto',\n",
       "                       max_leaf_nodes=None, max_samples=None,\n",
       "                       min_impurity_decrease=0.0, min_impurity_split=None,\n",
       "                       min_samples_leaf=1, min_samples_split=2,\n",
       "                       min_weight_fraction_leaf=0.0, n_estimators=71,\n",
       "                       n_jobs=None, oob_score=False, random_state=42, verbose=0,\n",
       "                       warm_start=False)"
      ]
     },
     "execution_count": 48,
     "metadata": {},
     "output_type": "execute_result"
    }
   ],
   "source": [
    "# Create and train a Random Forest Classifier\n",
    "random_forest = RandomForestClassifier(n_estimators=71, random_state=42)\n",
    "random_forest.fit(x, Y)"
   ]
  },
  {
   "cell_type": "code",
   "execution_count": null,
   "metadata": {},
   "outputs": [],
   "source": []
  },
  {
   "cell_type": "code",
   "execution_count": 49,
   "metadata": {},
   "outputs": [
    {
     "data": {
      "text/html": [
       "<div>\n",
       "<style scoped>\n",
       "    .dataframe tbody tr th:only-of-type {\n",
       "        vertical-align: middle;\n",
       "    }\n",
       "\n",
       "    .dataframe tbody tr th {\n",
       "        vertical-align: top;\n",
       "    }\n",
       "\n",
       "    .dataframe thead th {\n",
       "        text-align: right;\n",
       "    }\n",
       "</style>\n",
       "<table border=\"1\" class=\"dataframe\">\n",
       "  <thead>\n",
       "    <tr style=\"text-align: right;\">\n",
       "      <th></th>\n",
       "      <th>id</th>\n",
       "      <th>surgery</th>\n",
       "      <th>age</th>\n",
       "      <th>hospital_number</th>\n",
       "      <th>rectal_temp</th>\n",
       "      <th>pulse</th>\n",
       "      <th>respiratory_rate</th>\n",
       "      <th>temp_of_extremities</th>\n",
       "      <th>peripheral_pulse</th>\n",
       "      <th>mucous_membrane</th>\n",
       "      <th>...</th>\n",
       "      <th>abdomen</th>\n",
       "      <th>packed_cell_volume</th>\n",
       "      <th>total_protein</th>\n",
       "      <th>abdomo_appearance</th>\n",
       "      <th>abdomo_protein</th>\n",
       "      <th>surgical_lesion</th>\n",
       "      <th>lesion_1</th>\n",
       "      <th>lesion_2</th>\n",
       "      <th>lesion_3</th>\n",
       "      <th>cp_data</th>\n",
       "    </tr>\n",
       "  </thead>\n",
       "  <tbody>\n",
       "    <tr>\n",
       "      <th>0</th>\n",
       "      <td>1235</td>\n",
       "      <td>no</td>\n",
       "      <td>adult</td>\n",
       "      <td>534053</td>\n",
       "      <td>38.6</td>\n",
       "      <td>40.0</td>\n",
       "      <td>20.0</td>\n",
       "      <td>normal</td>\n",
       "      <td>normal</td>\n",
       "      <td>normal_pink</td>\n",
       "      <td>...</td>\n",
       "      <td>distend_small</td>\n",
       "      <td>42.0</td>\n",
       "      <td>7.5</td>\n",
       "      <td>clear</td>\n",
       "      <td>2.3</td>\n",
       "      <td>no</td>\n",
       "      <td>0</td>\n",
       "      <td>0</td>\n",
       "      <td>0</td>\n",
       "      <td>no</td>\n",
       "    </tr>\n",
       "    <tr>\n",
       "      <th>1</th>\n",
       "      <td>1236</td>\n",
       "      <td>yes</td>\n",
       "      <td>adult</td>\n",
       "      <td>528469</td>\n",
       "      <td>38.2</td>\n",
       "      <td>112.0</td>\n",
       "      <td>48.0</td>\n",
       "      <td>cool</td>\n",
       "      <td>reduced</td>\n",
       "      <td>bright_pink</td>\n",
       "      <td>...</td>\n",
       "      <td>distend_small</td>\n",
       "      <td>44.0</td>\n",
       "      <td>6.0</td>\n",
       "      <td>serosanguious</td>\n",
       "      <td>2.6</td>\n",
       "      <td>no</td>\n",
       "      <td>2208</td>\n",
       "      <td>0</td>\n",
       "      <td>0</td>\n",
       "      <td>yes</td>\n",
       "    </tr>\n",
       "    <tr>\n",
       "      <th>2</th>\n",
       "      <td>1237</td>\n",
       "      <td>yes</td>\n",
       "      <td>adult</td>\n",
       "      <td>528178</td>\n",
       "      <td>37.7</td>\n",
       "      <td>66.0</td>\n",
       "      <td>12.0</td>\n",
       "      <td>cool</td>\n",
       "      <td>normal</td>\n",
       "      <td>bright_red</td>\n",
       "      <td>...</td>\n",
       "      <td>distend_small</td>\n",
       "      <td>31.5</td>\n",
       "      <td>6.0</td>\n",
       "      <td>cloudy</td>\n",
       "      <td>1.6</td>\n",
       "      <td>yes</td>\n",
       "      <td>2205</td>\n",
       "      <td>0</td>\n",
       "      <td>0</td>\n",
       "      <td>yes</td>\n",
       "    </tr>\n",
       "    <tr>\n",
       "      <th>3</th>\n",
       "      <td>1238</td>\n",
       "      <td>no</td>\n",
       "      <td>adult</td>\n",
       "      <td>534784</td>\n",
       "      <td>37.1</td>\n",
       "      <td>88.0</td>\n",
       "      <td>20.0</td>\n",
       "      <td>cool</td>\n",
       "      <td>reduced</td>\n",
       "      <td>pale_cyanotic</td>\n",
       "      <td>...</td>\n",
       "      <td>distend_large</td>\n",
       "      <td>75.0</td>\n",
       "      <td>81.0</td>\n",
       "      <td>None</td>\n",
       "      <td>1.0</td>\n",
       "      <td>yes</td>\n",
       "      <td>1400</td>\n",
       "      <td>0</td>\n",
       "      <td>0</td>\n",
       "      <td>no</td>\n",
       "    </tr>\n",
       "    <tr>\n",
       "      <th>4</th>\n",
       "      <td>1239</td>\n",
       "      <td>yes</td>\n",
       "      <td>adult</td>\n",
       "      <td>529840</td>\n",
       "      <td>38.3</td>\n",
       "      <td>50.0</td>\n",
       "      <td>12.0</td>\n",
       "      <td>None</td>\n",
       "      <td>normal</td>\n",
       "      <td>bright_pink</td>\n",
       "      <td>...</td>\n",
       "      <td>distend_small</td>\n",
       "      <td>37.0</td>\n",
       "      <td>6.8</td>\n",
       "      <td>cloudy</td>\n",
       "      <td>2.6</td>\n",
       "      <td>yes</td>\n",
       "      <td>2208</td>\n",
       "      <td>0</td>\n",
       "      <td>0</td>\n",
       "      <td>yes</td>\n",
       "    </tr>\n",
       "  </tbody>\n",
       "</table>\n",
       "<p>5 rows × 28 columns</p>\n",
       "</div>"
      ],
      "text/plain": [
       "     id surgery    age  hospital_number  rectal_temp  pulse  respiratory_rate  \\\n",
       "0  1235      no  adult           534053         38.6   40.0              20.0   \n",
       "1  1236     yes  adult           528469         38.2  112.0              48.0   \n",
       "2  1237     yes  adult           528178         37.7   66.0              12.0   \n",
       "3  1238      no  adult           534784         37.1   88.0              20.0   \n",
       "4  1239     yes  adult           529840         38.3   50.0              12.0   \n",
       "\n",
       "  temp_of_extremities peripheral_pulse mucous_membrane  ...        abdomen  \\\n",
       "0              normal           normal     normal_pink  ...  distend_small   \n",
       "1                cool          reduced     bright_pink  ...  distend_small   \n",
       "2                cool           normal      bright_red  ...  distend_small   \n",
       "3                cool          reduced   pale_cyanotic  ...  distend_large   \n",
       "4                None           normal     bright_pink  ...  distend_small   \n",
       "\n",
       "  packed_cell_volume total_protein abdomo_appearance abdomo_protein  \\\n",
       "0               42.0           7.5             clear            2.3   \n",
       "1               44.0           6.0     serosanguious            2.6   \n",
       "2               31.5           6.0            cloudy            1.6   \n",
       "3               75.0          81.0              None            1.0   \n",
       "4               37.0           6.8            cloudy            2.6   \n",
       "\n",
       "  surgical_lesion  lesion_1 lesion_2 lesion_3  cp_data  \n",
       "0              no         0        0        0       no  \n",
       "1              no      2208        0        0      yes  \n",
       "2             yes      2205        0        0      yes  \n",
       "3             yes      1400        0        0       no  \n",
       "4             yes      2208        0        0      yes  \n",
       "\n",
       "[5 rows x 28 columns]"
      ]
     },
     "execution_count": 49,
     "metadata": {},
     "output_type": "execute_result"
    }
   ],
   "source": [
    "#FOR TEST DATA\n",
    "\n",
    "test_data = pd.read_csv('test.csv')\n",
    "\n",
    "test_data.head()"
   ]
  },
  {
   "cell_type": "code",
   "execution_count": 50,
   "metadata": {},
   "outputs": [],
   "source": [
    "label_encoder = LabelEncoder()\n",
    "\n",
    "test_data['surgery_label'] = label_encoder.fit_transform(test_data['surgery'])\n",
    "test_data['age_label'] = label_encoder.fit_transform(test_data['age'])\n",
    "test_data['temp_of_extremities_label'] = label_encoder.fit_transform(test_data['temp_of_extremities'])\n",
    "test_data['peripheral_pulse_label'] = label_encoder.fit_transform(test_data['peripheral_pulse'])\n",
    "test_data['mucous_membrane_label'] = label_encoder.fit_transform(test_data['mucous_membrane'])\n",
    "test_data['capillary_refill_time_label'] = label_encoder.fit_transform(test_data['capillary_refill_time'])\n",
    "\n",
    "test_data['pain_label'] = label_encoder.fit_transform(test_data['pain'])\n",
    "test_data['peristalsis_label'] = label_encoder.fit_transform(test_data['peristalsis'])\n",
    "test_data['abdominal_distention_label'] = label_encoder.fit_transform(test_data['abdominal_distention'])\n",
    "test_data['nasogastric_tube_label'] = label_encoder.fit_transform(test_data['nasogastric_tube'])\n",
    "test_data['nasogastric_reflux_label'] = label_encoder.fit_transform(test_data['nasogastric_reflux'])\n",
    "\n",
    "test_data['abdomen_label'] = label_encoder.fit_transform(test_data['abdomen'])\n",
    "test_data['rectal_exam_feces_label'] = label_encoder.fit_transform(test_data['rectal_exam_feces'])\n",
    "test_data['abdomo_appearance_label'] = label_encoder.fit_transform(test_data['abdomo_appearance'])\n",
    "test_data['surgical_lesion_label'] = label_encoder.fit_transform(test_data['surgical_lesion'])\n",
    "test_data['cp_data_label'] = label_encoder.fit_transform(test_data['cp_data'])"
   ]
  },
  {
   "cell_type": "code",
   "execution_count": 51,
   "metadata": {},
   "outputs": [],
   "source": [
    "Test_data = test_data[['id','surgery_label','age_label','rectal_temp','pulse','respiratory_rate','temp_of_extremities_label',\n",
    "       'peripheral_pulse_label','capillary_refill_time_label','pain_label','peristalsis_label',\n",
    "       'abdominal_distention_label','nasogastric_tube_label','nasogastric_reflux_label','nasogastric_reflux_ph',\n",
    "       'rectal_exam_feces_label','abdomen_label','abdomo_appearance_label','packed_cell_volume','total_protein',\n",
    "       'surgical_lesion_label','lesion_1','lesion_2','lesion_3','cp_data_label']]\n",
    "\n",
    "\n",
    "#,'hospital_number','mucous_membrane_label'"
   ]
  },
  {
   "cell_type": "code",
   "execution_count": null,
   "metadata": {},
   "outputs": [],
   "source": []
  },
  {
   "cell_type": "code",
   "execution_count": 52,
   "metadata": {},
   "outputs": [],
   "source": [
    "import numpy as np"
   ]
  },
  {
   "cell_type": "code",
   "execution_count": 53,
   "metadata": {},
   "outputs": [],
   "source": [
    "y_pred_random_forest = random_forest.predict(Test_data)"
   ]
  },
  {
   "cell_type": "code",
   "execution_count": 54,
   "metadata": {},
   "outputs": [
    {
     "data": {
      "text/plain": [
       "0      1235\n",
       "1      1236\n",
       "2      1237\n",
       "3      1238\n",
       "4      1239\n",
       "       ... \n",
       "819    2054\n",
       "820    2055\n",
       "821    2056\n",
       "822    2057\n",
       "823    2058\n",
       "Name: id, Length: 824, dtype: int64"
      ]
     },
     "execution_count": 54,
     "metadata": {},
     "output_type": "execute_result"
    }
   ],
   "source": [
    "Test_data['id']"
   ]
  },
  {
   "cell_type": "code",
   "execution_count": 55,
   "metadata": {},
   "outputs": [
    {
     "data": {
      "text/plain": [
       "array(['lived', 'died', 'lived', 'euthanized', 'lived', 'died', 'died',\n",
       "       'died', 'lived', 'lived', 'died', 'lived', 'lived', 'euthanized',\n",
       "       'died', 'lived', 'lived', 'lived', 'died', 'died', 'died', 'died',\n",
       "       'died', 'died', 'died', 'lived', 'died', 'euthanized', 'lived',\n",
       "       'died', 'lived', 'died', 'died', 'lived', 'lived', 'died', 'lived',\n",
       "       'lived', 'died', 'lived', 'died', 'euthanized', 'died',\n",
       "       'euthanized', 'died', 'lived', 'died', 'lived', 'lived', 'died',\n",
       "       'died', 'lived', 'died', 'died', 'died', 'lived', 'died', 'died',\n",
       "       'died', 'died', 'died', 'died', 'died', 'died', 'died', 'lived',\n",
       "       'lived', 'died', 'lived', 'lived', 'died', 'died', 'lived',\n",
       "       'lived', 'euthanized', 'died', 'euthanized', 'lived', 'died',\n",
       "       'died', 'died', 'euthanized', 'lived', 'euthanized', 'lived',\n",
       "       'lived', 'lived', 'euthanized', 'euthanized', 'lived',\n",
       "       'euthanized', 'lived', 'died', 'euthanized', 'lived', 'euthanized',\n",
       "       'died', 'died', 'died', 'died', 'died', 'lived', 'lived', 'lived',\n",
       "       'euthanized', 'lived', 'died', 'euthanized', 'lived', 'lived',\n",
       "       'died', 'euthanized', 'lived', 'died', 'lived', 'lived', 'lived',\n",
       "       'died', 'died', 'lived', 'died', 'lived', 'lived', 'lived', 'died',\n",
       "       'lived', 'died', 'lived', 'euthanized', 'lived', 'lived', 'lived',\n",
       "       'lived', 'lived', 'died', 'lived', 'died', 'euthanized', 'lived',\n",
       "       'lived', 'euthanized', 'died', 'died', 'died', 'died', 'lived',\n",
       "       'lived', 'euthanized', 'died', 'lived', 'died', 'died', 'lived',\n",
       "       'lived', 'died', 'lived', 'died', 'lived', 'died', 'euthanized',\n",
       "       'lived', 'died', 'lived', 'euthanized', 'died', 'died', 'lived',\n",
       "       'lived', 'euthanized', 'lived', 'died', 'lived', 'lived', 'lived',\n",
       "       'lived', 'died', 'died', 'lived', 'lived', 'lived', 'died',\n",
       "       'lived', 'lived', 'lived', 'died', 'lived', 'lived', 'euthanized',\n",
       "       'lived', 'lived', 'lived', 'lived', 'lived', 'died', 'lived',\n",
       "       'died', 'died', 'lived', 'died', 'died', 'died', 'euthanized',\n",
       "       'lived', 'lived', 'died', 'lived', 'lived', 'died', 'euthanized',\n",
       "       'lived', 'lived', 'lived', 'lived', 'lived', 'died', 'euthanized',\n",
       "       'lived', 'lived', 'died', 'lived', 'died', 'euthanized',\n",
       "       'euthanized', 'died', 'died', 'lived', 'died', 'lived', 'died',\n",
       "       'lived', 'lived', 'lived', 'died', 'lived', 'euthanized', 'lived',\n",
       "       'lived', 'died', 'died', 'died', 'lived', 'died', 'lived', 'lived',\n",
       "       'lived', 'lived', 'lived', 'died', 'died', 'lived', 'died',\n",
       "       'lived', 'died', 'euthanized', 'died', 'died', 'lived', 'died',\n",
       "       'euthanized', 'lived', 'euthanized', 'died', 'died', 'died',\n",
       "       'died', 'lived', 'lived', 'died', 'lived', 'lived', 'lived',\n",
       "       'died', 'euthanized', 'lived', 'lived', 'lived', 'died', 'died',\n",
       "       'died', 'euthanized', 'died', 'lived', 'died', 'died', 'died',\n",
       "       'died', 'lived', 'died', 'lived', 'died', 'lived', 'died', 'died',\n",
       "       'euthanized', 'died', 'lived', 'lived', 'died', 'lived', 'died',\n",
       "       'lived', 'died', 'lived', 'lived', 'euthanized', 'lived',\n",
       "       'euthanized', 'lived', 'euthanized', 'died', 'lived', 'lived',\n",
       "       'died', 'died', 'lived', 'lived', 'lived', 'lived', 'died',\n",
       "       'lived', 'lived', 'died', 'lived', 'euthanized', 'lived', 'died',\n",
       "       'died', 'lived', 'died', 'lived', 'lived', 'lived', 'lived',\n",
       "       'died', 'died', 'died', 'died', 'lived', 'lived', 'lived', 'lived',\n",
       "       'lived', 'died', 'lived', 'lived', 'died', 'lived', 'died',\n",
       "       'lived', 'lived', 'died', 'euthanized', 'lived', 'died',\n",
       "       'euthanized', 'died', 'euthanized', 'lived', 'died', 'died',\n",
       "       'lived', 'died', 'died', 'lived', 'lived', 'died', 'died', 'lived',\n",
       "       'lived', 'lived', 'died', 'lived', 'lived', 'died', 'lived',\n",
       "       'died', 'euthanized', 'died', 'died', 'lived', 'died', 'lived',\n",
       "       'lived', 'died', 'lived', 'lived', 'died', 'lived', 'died', 'died',\n",
       "       'died', 'died', 'euthanized', 'euthanized', 'lived', 'euthanized',\n",
       "       'euthanized', 'lived', 'lived', 'died', 'lived', 'lived', 'died',\n",
       "       'died', 'died', 'lived', 'lived', 'lived', 'died', 'lived',\n",
       "       'lived', 'euthanized', 'died', 'died', 'lived', 'died', 'died',\n",
       "       'died', 'lived', 'euthanized', 'lived', 'died', 'died', 'died',\n",
       "       'died', 'died', 'died', 'euthanized', 'lived', 'lived', 'lived',\n",
       "       'euthanized', 'died', 'died', 'lived', 'died', 'lived', 'lived',\n",
       "       'lived', 'died', 'died', 'lived', 'lived', 'died', 'euthanized',\n",
       "       'died', 'lived', 'died', 'lived', 'died', 'euthanized',\n",
       "       'euthanized', 'died', 'died', 'died', 'lived', 'lived', 'lived',\n",
       "       'died', 'lived', 'lived', 'lived', 'died', 'died', 'lived',\n",
       "       'lived', 'euthanized', 'lived', 'died', 'lived', 'lived', 'died',\n",
       "       'lived', 'euthanized', 'lived', 'lived', 'lived', 'lived', 'lived',\n",
       "       'euthanized', 'died', 'died', 'lived', 'euthanized', 'lived',\n",
       "       'died', 'died', 'lived', 'died', 'died', 'died', 'died', 'lived',\n",
       "       'died', 'lived', 'died', 'died', 'euthanized', 'died', 'lived',\n",
       "       'euthanized', 'lived', 'lived', 'euthanized', 'lived', 'died',\n",
       "       'lived', 'lived', 'died', 'euthanized', 'died', 'died', 'lived',\n",
       "       'euthanized', 'lived', 'lived', 'lived', 'died', 'died', 'lived',\n",
       "       'lived', 'died', 'lived', 'lived', 'lived', 'died', 'died',\n",
       "       'euthanized', 'lived', 'died', 'died', 'euthanized', 'lived',\n",
       "       'died', 'died', 'died', 'died', 'lived', 'lived', 'died', 'lived',\n",
       "       'lived', 'died', 'lived', 'died', 'died', 'died', 'lived',\n",
       "       'euthanized', 'lived', 'euthanized', 'euthanized', 'died',\n",
       "       'euthanized', 'euthanized', 'euthanized', 'died', 'died', 'died',\n",
       "       'euthanized', 'lived', 'died', 'lived', 'died', 'died', 'died',\n",
       "       'lived', 'lived', 'died', 'died', 'euthanized', 'lived',\n",
       "       'euthanized', 'died', 'lived', 'euthanized', 'lived', 'died',\n",
       "       'lived', 'lived', 'died', 'lived', 'lived', 'lived', 'lived',\n",
       "       'died', 'lived', 'lived', 'lived', 'died', 'lived', 'lived',\n",
       "       'euthanized', 'lived', 'died', 'lived', 'lived', 'died', 'lived',\n",
       "       'lived', 'lived', 'died', 'euthanized', 'lived', 'lived', 'died',\n",
       "       'lived', 'euthanized', 'lived', 'died', 'euthanized', 'euthanized',\n",
       "       'died', 'lived', 'lived', 'died', 'lived', 'euthanized', 'lived',\n",
       "       'died', 'died', 'died', 'died', 'lived', 'euthanized', 'lived',\n",
       "       'lived', 'died', 'lived', 'lived', 'died', 'died', 'lived', 'died',\n",
       "       'died', 'died', 'lived', 'lived', 'died', 'lived', 'lived',\n",
       "       'lived', 'euthanized', 'lived', 'lived', 'lived', 'lived', 'lived',\n",
       "       'lived', 'lived', 'euthanized', 'died', 'lived', 'died',\n",
       "       'euthanized', 'lived', 'euthanized', 'lived', 'died', 'lived',\n",
       "       'lived', 'lived', 'died', 'lived', 'lived', 'lived', 'died',\n",
       "       'died', 'died', 'euthanized', 'euthanized', 'euthanized', 'died',\n",
       "       'euthanized', 'died', 'died', 'lived', 'euthanized', 'euthanized',\n",
       "       'lived', 'died', 'euthanized', 'lived', 'lived', 'lived', 'lived',\n",
       "       'lived', 'died', 'lived', 'lived', 'lived', 'lived', 'lived',\n",
       "       'lived', 'died', 'died', 'died', 'lived', 'died', 'died', 'died',\n",
       "       'lived', 'euthanized', 'died', 'lived', 'euthanized', 'died',\n",
       "       'lived', 'lived', 'lived', 'euthanized', 'died', 'died', 'died',\n",
       "       'died', 'euthanized', 'died', 'lived', 'lived', 'lived', 'died',\n",
       "       'died', 'lived', 'lived', 'lived', 'lived', 'died', 'lived',\n",
       "       'euthanized', 'lived', 'died', 'died', 'lived', 'lived', 'lived',\n",
       "       'lived', 'lived', 'died', 'euthanized', 'lived', 'died', 'lived',\n",
       "       'euthanized', 'lived', 'died', 'died', 'lived', 'died', 'died',\n",
       "       'died', 'lived', 'lived', 'died', 'died', 'lived', 'lived',\n",
       "       'lived', 'lived', 'lived', 'died', 'died', 'died', 'died', 'lived',\n",
       "       'lived', 'lived', 'died', 'euthanized', 'lived', 'lived', 'died',\n",
       "       'lived', 'died', 'died', 'euthanized', 'lived', 'died', 'died',\n",
       "       'died', 'lived', 'died', 'lived', 'lived', 'lived', 'died',\n",
       "       'lived', 'euthanized', 'died', 'euthanized', 'euthanized', 'died',\n",
       "       'lived', 'died', 'euthanized', 'lived', 'euthanized', 'lived',\n",
       "       'lived', 'died', 'lived', 'euthanized', 'lived', 'died', 'died',\n",
       "       'euthanized', 'euthanized', 'died', 'lived', 'lived', 'euthanized',\n",
       "       'euthanized', 'lived', 'lived', 'lived', 'died', 'euthanized',\n",
       "       'died', 'lived', 'euthanized', 'died', 'euthanized', 'died',\n",
       "       'lived', 'lived'], dtype=object)"
      ]
     },
     "execution_count": 55,
     "metadata": {},
     "output_type": "execute_result"
    }
   ],
   "source": [
    "y_pred_random_forest"
   ]
  },
  {
   "cell_type": "code",
   "execution_count": 56,
   "metadata": {},
   "outputs": [],
   "source": [
    "np.savetxt('pred.csv', y_pred_random_forest, fmt=\"%s\")"
   ]
  },
  {
   "cell_type": "code",
   "execution_count": 57,
   "metadata": {},
   "outputs": [
    {
     "data": {
      "text/plain": [
       "824"
      ]
     },
     "execution_count": 57,
     "metadata": {},
     "output_type": "execute_result"
    }
   ],
   "source": [
    "len(Test_data)"
   ]
  },
  {
   "cell_type": "code",
   "execution_count": 58,
   "metadata": {},
   "outputs": [
    {
     "data": {
      "text/plain": [
       "824"
      ]
     },
     "execution_count": 58,
     "metadata": {},
     "output_type": "execute_result"
    }
   ],
   "source": [
    "len(y_pred_random_forest)"
   ]
  },
  {
   "cell_type": "code",
   "execution_count": 59,
   "metadata": {},
   "outputs": [],
   "source": [
    "# Create a NumPy array with two columns\n",
    "data = np.column_stack((Test_data['id'],y_pred_random_forest ))"
   ]
  },
  {
   "cell_type": "code",
   "execution_count": 60,
   "metadata": {},
   "outputs": [],
   "source": [
    "# Create a DataFrame with columns named 'x' and 'y'\n",
    "df = pd.DataFrame(data, columns=['id', 'outcome'])"
   ]
  },
  {
   "cell_type": "code",
   "execution_count": 61,
   "metadata": {},
   "outputs": [],
   "source": [
    "file_path = 'your_file_name.xlsx'\n",
    "\n",
    "# Save the DataFrame to an Excel file\n",
    "df.to_excel(file_path, index=False)"
   ]
  },
  {
   "cell_type": "code",
   "execution_count": null,
   "metadata": {},
   "outputs": [],
   "source": []
  }
 ],
 "metadata": {
  "kernelspec": {
   "display_name": "base",
   "language": "python",
   "name": "python3"
  },
  "language_info": {
   "codemirror_mode": {
    "name": "ipython",
    "version": 3
   },
   "file_extension": ".py",
   "mimetype": "text/x-python",
   "name": "python",
   "nbconvert_exporter": "python",
   "pygments_lexer": "ipython3",
   "version": "3.7.6"
  },
  "orig_nbformat": 4
 },
 "nbformat": 4,
 "nbformat_minor": 2
}
